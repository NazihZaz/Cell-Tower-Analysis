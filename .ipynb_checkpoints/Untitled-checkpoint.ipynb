{
 "cells": [
  {
   "cell_type": "code",
   "execution_count": 1,
   "id": "6a14985b",
   "metadata": {},
   "outputs": [],
   "source": [
    "import pandas as pd\n",
    "import pymongo"
   ]
  },
  {
   "cell_type": "code",
   "execution_count": 2,
   "id": "42c3f9b7",
   "metadata": {},
   "outputs": [],
   "source": [
    "df_311=pd.read_csv(\"Resources/311.csv\")\n",
    "df_312=pd.read_csv(\"Resources/312.csv\")\n",
    "df_313=pd.read_csv(\"Resources/313.csv\")\n",
    "df_316=pd.read_csv(\"Resources/316.csv\")"
   ]
  },
  {
   "cell_type": "code",
   "execution_count": 3,
   "id": "fbc85b13",
   "metadata": {},
   "outputs": [],
   "source": [
    "all_dfs=[df_311,df_312,df_313,df_316]\n",
    "cell_towers_data=pd.concat(all_dfs).reset_index(drop=True)"
   ]
  },
  {
   "cell_type": "code",
   "execution_count": 4,
   "id": "680c0157",
   "metadata": {},
   "outputs": [
    {
     "name": "stdout",
     "output_type": "stream",
     "text": [
      "<class 'pandas.core.frame.DataFrame'>\n",
      "RangeIndex: 1255727 entries, 0 to 1255726\n",
      "Data columns (total 14 columns):\n",
      " #   Column         Non-Null Count    Dtype  \n",
      "---  ------         --------------    -----  \n",
      " 0   radio          1255727 non-null  object \n",
      " 1   mcc            1255727 non-null  int64  \n",
      " 2   net            1255727 non-null  int64  \n",
      " 3   area           1255727 non-null  int64  \n",
      " 4   cell           1255727 non-null  int64  \n",
      " 5   unit           1255727 non-null  int64  \n",
      " 6   lon            1255727 non-null  float64\n",
      " 7   lat            1255727 non-null  float64\n",
      " 8   range          1255727 non-null  int64  \n",
      " 9   samples        1255727 non-null  int64  \n",
      " 10  changeable     1255727 non-null  int64  \n",
      " 11  created        1255727 non-null  int64  \n",
      " 12  updated        1255727 non-null  int64  \n",
      " 13  averageSignal  1255727 non-null  int64  \n",
      "dtypes: float64(2), int64(11), object(1)\n",
      "memory usage: 134.1+ MB\n"
     ]
    }
   ],
   "source": [
    "cell_towers_data.info()"
   ]
  },
  {
   "cell_type": "code",
   "execution_count": 5,
   "id": "b286cb29",
   "metadata": {},
   "outputs": [
    {
     "data": {
      "text/html": [
       "<div>\n",
       "<style scoped>\n",
       "    .dataframe tbody tr th:only-of-type {\n",
       "        vertical-align: middle;\n",
       "    }\n",
       "\n",
       "    .dataframe tbody tr th {\n",
       "        vertical-align: top;\n",
       "    }\n",
       "\n",
       "    .dataframe thead th {\n",
       "        text-align: right;\n",
       "    }\n",
       "</style>\n",
       "<table border=\"1\" class=\"dataframe\">\n",
       "  <thead>\n",
       "    <tr style=\"text-align: right;\">\n",
       "      <th></th>\n",
       "      <th>radio</th>\n",
       "      <th>mcc</th>\n",
       "      <th>net</th>\n",
       "      <th>area</th>\n",
       "      <th>cell</th>\n",
       "      <th>unit</th>\n",
       "      <th>lon</th>\n",
       "      <th>lat</th>\n",
       "      <th>range</th>\n",
       "      <th>samples</th>\n",
       "      <th>changeable</th>\n",
       "      <th>created</th>\n",
       "      <th>updated</th>\n",
       "      <th>averageSignal</th>\n",
       "    </tr>\n",
       "  </thead>\n",
       "  <tbody>\n",
       "    <tr>\n",
       "      <th>0</th>\n",
       "      <td>GSM</td>\n",
       "      <td>311</td>\n",
       "      <td>470</td>\n",
       "      <td>42202</td>\n",
       "      <td>15072</td>\n",
       "      <td>0</td>\n",
       "      <td>-64.833755</td>\n",
       "      <td>17.762833</td>\n",
       "      <td>1000</td>\n",
       "      <td>1</td>\n",
       "      <td>1</td>\n",
       "      <td>1459668408</td>\n",
       "      <td>1459668408</td>\n",
       "      <td>0</td>\n",
       "    </tr>\n",
       "    <tr>\n",
       "      <th>1</th>\n",
       "      <td>CDMA</td>\n",
       "      <td>311</td>\n",
       "      <td>40</td>\n",
       "      <td>9281</td>\n",
       "      <td>3561</td>\n",
       "      <td>0</td>\n",
       "      <td>-112.121560</td>\n",
       "      <td>36.003734</td>\n",
       "      <td>2048</td>\n",
       "      <td>84</td>\n",
       "      <td>1</td>\n",
       "      <td>1277116486</td>\n",
       "      <td>1277116486</td>\n",
       "      <td>0</td>\n",
       "    </tr>\n",
       "    <tr>\n",
       "      <th>2</th>\n",
       "      <td>CDMA</td>\n",
       "      <td>311</td>\n",
       "      <td>40</td>\n",
       "      <td>9281</td>\n",
       "      <td>911</td>\n",
       "      <td>0</td>\n",
       "      <td>-112.121658</td>\n",
       "      <td>36.037903</td>\n",
       "      <td>1000</td>\n",
       "      <td>2</td>\n",
       "      <td>1</td>\n",
       "      <td>1277116576</td>\n",
       "      <td>1277116576</td>\n",
       "      <td>0</td>\n",
       "    </tr>\n",
       "    <tr>\n",
       "      <th>3</th>\n",
       "      <td>CDMA</td>\n",
       "      <td>311</td>\n",
       "      <td>40</td>\n",
       "      <td>9281</td>\n",
       "      <td>921</td>\n",
       "      <td>0</td>\n",
       "      <td>-112.126682</td>\n",
       "      <td>35.975644</td>\n",
       "      <td>1537</td>\n",
       "      <td>79</td>\n",
       "      <td>1</td>\n",
       "      <td>1342066239</td>\n",
       "      <td>1342066239</td>\n",
       "      <td>0</td>\n",
       "    </tr>\n",
       "    <tr>\n",
       "      <th>4</th>\n",
       "      <td>CDMA</td>\n",
       "      <td>311</td>\n",
       "      <td>40</td>\n",
       "      <td>9281</td>\n",
       "      <td>3562</td>\n",
       "      <td>0</td>\n",
       "      <td>-112.123856</td>\n",
       "      <td>35.985580</td>\n",
       "      <td>1316</td>\n",
       "      <td>10</td>\n",
       "      <td>1</td>\n",
       "      <td>1332516354</td>\n",
       "      <td>1332516354</td>\n",
       "      <td>0</td>\n",
       "    </tr>\n",
       "  </tbody>\n",
       "</table>\n",
       "</div>"
      ],
      "text/plain": [
       "  radio  mcc  net   area   cell  unit         lon        lat  range  samples  \\\n",
       "0   GSM  311  470  42202  15072     0  -64.833755  17.762833   1000        1   \n",
       "1  CDMA  311   40   9281   3561     0 -112.121560  36.003734   2048       84   \n",
       "2  CDMA  311   40   9281    911     0 -112.121658  36.037903   1000        2   \n",
       "3  CDMA  311   40   9281    921     0 -112.126682  35.975644   1537       79   \n",
       "4  CDMA  311   40   9281   3562     0 -112.123856  35.985580   1316       10   \n",
       "\n",
       "   changeable     created     updated  averageSignal  \n",
       "0           1  1459668408  1459668408              0  \n",
       "1           1  1277116486  1277116486              0  \n",
       "2           1  1277116576  1277116576              0  \n",
       "3           1  1342066239  1342066239              0  \n",
       "4           1  1332516354  1332516354              0  "
      ]
     },
     "execution_count": 5,
     "metadata": {},
     "output_type": "execute_result"
    }
   ],
   "source": [
    "cell_towers_data.head()"
   ]
  },
  {
   "cell_type": "code",
   "execution_count": 22,
   "id": "a0b4a281",
   "metadata": {},
   "outputs": [],
   "source": [
    "json_data=cell_towers_data.to_dict(\"records\")"
   ]
  },
  {
   "cell_type": "code",
   "execution_count": 23,
   "id": "c78c986b",
   "metadata": {},
   "outputs": [],
   "source": [
    "conn = \"mongodb://localhost:27017\"\n",
    "client = pymongo.MongoClient(conn)\n",
    "\n",
    "# Select database and collection to use\n",
    "db = client.cell_towers\n",
    "collection = db.towers_data\n"
   ]
  },
  {
   "cell_type": "code",
   "execution_count": 27,
   "id": "4de1bdd2",
   "metadata": {},
   "outputs": [
    {
     "data": {
      "text/plain": [
       "<pymongo.results.InsertManyResult at 0x138c8935740>"
      ]
     },
     "execution_count": 27,
     "metadata": {},
     "output_type": "execute_result"
    }
   ],
   "source": [
    "collection.insert_many(json_data)"
   ]
  }
 ],
 "metadata": {
  "kernelspec": {
   "display_name": "Python 3",
   "language": "python",
   "name": "python3"
  },
  "language_info": {
   "codemirror_mode": {
    "name": "ipython",
    "version": 3
   },
   "file_extension": ".py",
   "mimetype": "text/x-python",
   "name": "python",
   "nbconvert_exporter": "python",
   "pygments_lexer": "ipython3",
   "version": "3.8.8"
  }
 },
 "nbformat": 4,
 "nbformat_minor": 5
}
