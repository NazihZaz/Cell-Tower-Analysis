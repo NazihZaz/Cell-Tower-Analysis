{
 "cells": [
  {
   "cell_type": "code",
   "execution_count": 1,
   "id": "6a14985b",
   "metadata": {},
   "outputs": [],
   "source": [
    "import pandas as pd\n",
    "import pymongo"
   ]
  },
  {
   "cell_type": "code",
   "execution_count": 2,
   "id": "42c3f9b7",
   "metadata": {},
   "outputs": [],
   "source": [
    "df_310_1=pd.read_csv(\"Resources/310_#1.csv\")\n",
    "df_310_2=pd.read_csv(\"Resources/310_#2.csv\")\n",
    "df_310_3=pd.read_csv(\"Resources/310_#3.csv\")\n",
    "df_310_4=pd.read_csv(\"Resources/310_#4.csv\")\n",
    "df_311=pd.read_csv(\"Resources/311.csv\")\n",
    "df_312=pd.read_csv(\"Resources/312.csv\")\n",
    "df_313=pd.read_csv(\"Resources/313.csv\")\n",
    "df_316=pd.read_csv(\"Resources/316.csv\")"
   ]
  },
  {
   "cell_type": "code",
   "execution_count": 3,
   "id": "fbc85b13",
   "metadata": {},
   "outputs": [],
   "source": [
    "all_dfs=[df_310_1, df_310_2,df_310_3,df_310_4,df_311,df_312,df_313,df_316]\n",
    "cell_towers_data=pd.concat(all_dfs).reset_index(drop=True)"
   ]
  },
  {
   "cell_type": "code",
   "execution_count": 4,
   "id": "680c0157",
   "metadata": {
    "scrolled": true
   },
   "outputs": [
    {
     "name": "stdout",
     "output_type": "stream",
     "text": [
      "<class 'pandas.core.frame.DataFrame'>\n",
      "RangeIndex: 6073711 entries, 0 to 6073710\n",
      "Data columns (total 14 columns):\n",
      " #   Column         Dtype  \n",
      "---  ------         -----  \n",
      " 0   radio          object \n",
      " 1   mcc            int64  \n",
      " 2   net            int64  \n",
      " 3   area           int64  \n",
      " 4   cell           int64  \n",
      " 5   unit           int64  \n",
      " 6   lon            float64\n",
      " 7   lat            float64\n",
      " 8   range          int64  \n",
      " 9   samples        int64  \n",
      " 10  changeable     int64  \n",
      " 11  created        int64  \n",
      " 12  updated        int64  \n",
      " 13  averageSignal  int64  \n",
      "dtypes: float64(2), int64(11), object(1)\n",
      "memory usage: 648.7+ MB\n"
     ]
    }
   ],
   "source": [
    "cell_towers_data.info()"
   ]
  },
  {
   "cell_type": "code",
   "execution_count": 5,
   "id": "b286cb29",
   "metadata": {},
   "outputs": [
    {
     "data": {
      "text/html": [
       "<div>\n",
       "<style scoped>\n",
       "    .dataframe tbody tr th:only-of-type {\n",
       "        vertical-align: middle;\n",
       "    }\n",
       "\n",
       "    .dataframe tbody tr th {\n",
       "        vertical-align: top;\n",
       "    }\n",
       "\n",
       "    .dataframe thead th {\n",
       "        text-align: right;\n",
       "    }\n",
       "</style>\n",
       "<table border=\"1\" class=\"dataframe\">\n",
       "  <thead>\n",
       "    <tr style=\"text-align: right;\">\n",
       "      <th></th>\n",
       "      <th>radio</th>\n",
       "      <th>mcc</th>\n",
       "      <th>net</th>\n",
       "      <th>area</th>\n",
       "      <th>cell</th>\n",
       "      <th>unit</th>\n",
       "      <th>lon</th>\n",
       "      <th>lat</th>\n",
       "      <th>range</th>\n",
       "      <th>samples</th>\n",
       "      <th>changeable</th>\n",
       "      <th>created</th>\n",
       "      <th>updated</th>\n",
       "      <th>averageSignal</th>\n",
       "    </tr>\n",
       "  </thead>\n",
       "  <tbody>\n",
       "    <tr>\n",
       "      <th>0</th>\n",
       "      <td>GSM</td>\n",
       "      <td>310</td>\n",
       "      <td>260</td>\n",
       "      <td>32192</td>\n",
       "      <td>22568</td>\n",
       "      <td>0</td>\n",
       "      <td>-73.858566</td>\n",
       "      <td>40.898438</td>\n",
       "      <td>1779</td>\n",
       "      <td>12</td>\n",
       "      <td>1</td>\n",
       "      <td>1459696254</td>\n",
       "      <td>1489125559</td>\n",
       "      <td>0</td>\n",
       "    </tr>\n",
       "    <tr>\n",
       "      <th>1</th>\n",
       "      <td>GSM</td>\n",
       "      <td>310</td>\n",
       "      <td>260</td>\n",
       "      <td>22629</td>\n",
       "      <td>61562</td>\n",
       "      <td>0</td>\n",
       "      <td>-95.904465</td>\n",
       "      <td>41.303787</td>\n",
       "      <td>1000</td>\n",
       "      <td>2</td>\n",
       "      <td>1</td>\n",
       "      <td>1459810860</td>\n",
       "      <td>1474332973</td>\n",
       "      <td>0</td>\n",
       "    </tr>\n",
       "    <tr>\n",
       "      <th>2</th>\n",
       "      <td>GSM</td>\n",
       "      <td>310</td>\n",
       "      <td>260</td>\n",
       "      <td>51052</td>\n",
       "      <td>44152</td>\n",
       "      <td>0</td>\n",
       "      <td>-71.084483</td>\n",
       "      <td>42.381728</td>\n",
       "      <td>1000</td>\n",
       "      <td>44</td>\n",
       "      <td>1</td>\n",
       "      <td>1459812328</td>\n",
       "      <td>1514115939</td>\n",
       "      <td>0</td>\n",
       "    </tr>\n",
       "    <tr>\n",
       "      <th>3</th>\n",
       "      <td>GSM</td>\n",
       "      <td>310</td>\n",
       "      <td>260</td>\n",
       "      <td>51051</td>\n",
       "      <td>40311</td>\n",
       "      <td>0</td>\n",
       "      <td>-71.085559</td>\n",
       "      <td>42.381356</td>\n",
       "      <td>1000</td>\n",
       "      <td>52</td>\n",
       "      <td>1</td>\n",
       "      <td>1459812328</td>\n",
       "      <td>1527695374</td>\n",
       "      <td>0</td>\n",
       "    </tr>\n",
       "    <tr>\n",
       "      <th>4</th>\n",
       "      <td>GSM</td>\n",
       "      <td>310</td>\n",
       "      <td>260</td>\n",
       "      <td>5973</td>\n",
       "      <td>60092</td>\n",
       "      <td>0</td>\n",
       "      <td>-95.570630</td>\n",
       "      <td>29.735371</td>\n",
       "      <td>1000</td>\n",
       "      <td>22</td>\n",
       "      <td>1</td>\n",
       "      <td>1459692332</td>\n",
       "      <td>1490851584</td>\n",
       "      <td>0</td>\n",
       "    </tr>\n",
       "  </tbody>\n",
       "</table>\n",
       "</div>"
      ],
      "text/plain": [
       "  radio  mcc  net   area   cell  unit        lon        lat  range  samples  \\\n",
       "0   GSM  310  260  32192  22568     0 -73.858566  40.898438   1779       12   \n",
       "1   GSM  310  260  22629  61562     0 -95.904465  41.303787   1000        2   \n",
       "2   GSM  310  260  51052  44152     0 -71.084483  42.381728   1000       44   \n",
       "3   GSM  310  260  51051  40311     0 -71.085559  42.381356   1000       52   \n",
       "4   GSM  310  260   5973  60092     0 -95.570630  29.735371   1000       22   \n",
       "\n",
       "   changeable     created     updated  averageSignal  \n",
       "0           1  1459696254  1489125559              0  \n",
       "1           1  1459810860  1474332973              0  \n",
       "2           1  1459812328  1514115939              0  \n",
       "3           1  1459812328  1527695374              0  \n",
       "4           1  1459692332  1490851584              0  "
      ]
     },
     "execution_count": 5,
     "metadata": {},
     "output_type": "execute_result"
    }
   ],
   "source": [
    "cell_towers_data.head()"
   ]
  },
  {
   "cell_type": "code",
   "execution_count": 6,
   "id": "a0b4a281",
   "metadata": {},
   "outputs": [],
   "source": [
    "dict_data=cell_towers_data.to_dict(\"records\")"
   ]
  },
  {
   "cell_type": "code",
   "execution_count": 7,
   "id": "c78c986b",
   "metadata": {},
   "outputs": [],
   "source": [
    "conn = \"mongodb://localhost:27017\"\n",
    "client = pymongo.MongoClient(conn)\n",
    "\n",
    "# Select database and collection to use\n",
    "db = client.cell_towers\n",
    "collection = db.towers_data\n"
   ]
  },
  {
   "cell_type": "code",
   "execution_count": 8,
   "id": "8c4fdef8",
   "metadata": {},
   "outputs": [
    {
     "data": {
      "text/plain": [
       "<pymongo.results.InsertManyResult at 0x2c8f50052c0>"
      ]
     },
     "execution_count": 8,
     "metadata": {},
     "output_type": "execute_result"
    }
   ],
   "source": [
    "collection.insert_many(dict_data)"
   ]
  }
 ],
 "metadata": {
  "kernelspec": {
   "display_name": "Python 3",
   "language": "python",
   "name": "python3"
  },
  "language_info": {
   "codemirror_mode": {
    "name": "ipython",
    "version": 3
   },
   "file_extension": ".py",
   "mimetype": "text/x-python",
   "name": "python",
   "nbconvert_exporter": "python",
   "pygments_lexer": "ipython3",
   "version": "3.8.8"
  }
 },
 "nbformat": 4,
 "nbformat_minor": 5
}
